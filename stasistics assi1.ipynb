{
 "cells": [
  {
   "cell_type": "markdown",
   "id": "f3b5b48b-6f49-4e66-b82f-00c853080812",
   "metadata": {},
   "source": [
    "Q1. What is Statistics?"
   ]
  },
  {
   "cell_type": "markdown",
   "id": "e1f6a196-8846-41f0-8f8b-7fd3fa59a20c",
   "metadata": {},
   "source": [
    "Statistics is the study of the collection, analysis, interpretation, presentation, and organization of data. "
   ]
  },
  {
   "cell_type": "markdown",
   "id": "c183f11a-a751-4eca-8258-43638923042a",
   "metadata": {},
   "source": [
    "Q2. Define the different types of statistics and give an example of when each type might be used."
   ]
  },
  {
   "cell_type": "markdown",
   "id": "a4b4176b-3b8e-4130-bc8b-8822abf0ad7a",
   "metadata": {},
   "source": [
    "There are two types of statistis Descriptive statistics and Inferential statistics."
   ]
  },
  {
   "cell_type": "markdown",
   "id": "8f4eaac7-7bb5-4742-a99c-df62f09b2380",
   "metadata": {},
   "source": [
    "Q3. What are the different types of data and how do they differ from each other? Provide an example of\n",
    "each type of data."
   ]
  },
  {
   "cell_type": "markdown",
   "id": "6456a344-d0d0-46fb-b69d-65df7576d859",
   "metadata": {},
   "source": [
    "There are two types of data QUANTITATIVE and QUALITATIVE"
   ]
  },
  {
   "cell_type": "markdown",
   "id": "1e18794f-ef7d-45f4-8f1a-1f0e2e4606ca",
   "metadata": {},
   "source": [
    "QUANTITATIVE data include discrit data (whole numbers) and CONTINUOUS data (any number)"
   ]
  },
  {
   "cell_type": "markdown",
   "id": "0bc76aab-c37b-490e-a030-6f012d78e5cb",
   "metadata": {},
   "source": [
    "QUALITATIVE data include nominal (cant assign rank) and ordinal (can assign rank)"
   ]
  },
  {
   "cell_type": "markdown",
   "id": "1a5e66b0-276f-4183-be20-d5bb0732501a",
   "metadata": {},
   "source": [
    "Q4. Categorise the following datasets with respect to quantitative and qualitative data types:"
   ]
  },
  {
   "cell_type": "markdown",
   "id": "627788df-1aca-4076-9767-f375de8eff73",
   "metadata": {},
   "source": [
    "(i) Grading in exam: A+, A, B+, B, C+, C, D, E"
   ]
  },
  {
   "cell_type": "markdown",
   "id": "a5bf67d0-d60f-4fc1-819c-7fac477da008",
   "metadata": {},
   "source": [
    "qualitative"
   ]
  },
  {
   "cell_type": "markdown",
   "id": "e59c26c9-f0ec-4999-b1cf-a1a86678b923",
   "metadata": {},
   "source": [
    "(ii) Colour of mangoes: yellow, green, orange, red"
   ]
  },
  {
   "cell_type": "markdown",
   "id": "6c9c92db-85c3-429b-8dd9-dce04f920ec9",
   "metadata": {},
   "source": [
    "qualitative"
   ]
  },
  {
   "cell_type": "markdown",
   "id": "53614929-4066-44a3-97ad-d495244b3c10",
   "metadata": {},
   "source": [
    "(iii) Height data of a class: [178.9, 179, 179.5, 176, 177.2, 178.3, 175.8,...]"
   ]
  },
  {
   "cell_type": "markdown",
   "id": "1d52dfb9-46ed-4750-81fb-e007f12913a7",
   "metadata": {},
   "source": [
    "quantitative"
   ]
  },
  {
   "cell_type": "markdown",
   "id": "dc4666c6-6c4b-46cc-bc1f-5a2447c1a37c",
   "metadata": {},
   "source": [
    "(iv) Number of mangoes exported by a farm: [500, 600, 478, 672, ...]"
   ]
  },
  {
   "cell_type": "markdown",
   "id": "799d905f-2a17-4fd0-ae81-92d1ea95bd1a",
   "metadata": {},
   "source": [
    "quantitative"
   ]
  },
  {
   "cell_type": "markdown",
   "id": "c76d1ab5-2061-49ab-91c4-1de4c621ad74",
   "metadata": {},
   "source": [
    "Q5. Explain the concept of levels of measurement and give an example of a variable for each level."
   ]
  },
  {
   "cell_type": "markdown",
   "id": "a0bf62da-1b03-4680-8f28-53d8a398d62c",
   "metadata": {},
   "source": [
    "nominal.\n",
    "You can categorize your data by labelling them in mutually exclusive groups, but there is no order between the categories.\t\n",
    "City of birth\n"
   ]
  },
  {
   "cell_type": "markdown",
   "id": "ced4804a-387e-4dd5-bd89-027f567d47f3",
   "metadata": {},
   "source": [
    "ordinal.You can categorize and rank your data in an order, but you cannot say anything about the intervals between the rankings.EXAMPLE Top 5 Olympic medallists"
   ]
  },
  {
   "cell_type": "markdown",
   "id": "5da4e7c8-b1d0-400f-aabd-da7db9803f36",
   "metadata": {},
   "source": [
    "Interval: This level not only categorizes and ranks data, but also has equal intervals between each unit. You can say how much difference there is between two values.EXAMPLE  Temperature in Celsius or Fahrenheit"
   ]
  },
  {
   "cell_type": "markdown",
   "id": "fca2a992-8b15-45e8-ac36-98958f450a2b",
   "metadata": {},
   "source": [
    "Q6. Why is it important to understand the level of measurement when analyzing data? Provide an\n",
    "example to illustrate your answer."
   ]
  },
  {
   "cell_type": "markdown",
   "id": "7a94e011-7763-4b54-89a3-a75cf4656359",
   "metadata": {},
   "source": [
    "Understanding the level of measurement is crucial for data analysis because it dictates the kinds of conclusions you can draw and the appropriate statistical methods you can use."
   ]
  },
  {
   "cell_type": "markdown",
   "id": "374eb4b5-bd76-43ce-96af-3a4a3eef040c",
   "metadata": {},
   "source": [
    "1. Choosing the right statistical test"
   ]
  },
  {
   "cell_type": "markdown",
   "id": "67067102-e961-46e5-8888-cbf465fec4e3",
   "metadata": {},
   "source": [
    "Example: Imagine comparing movie ratings (ordinal) and exam scores (ratio). You could calculate an average for both, but the interpretation differs. The average rating tells you the \"typical\" preference, while the average score indicates the \"middle\" achievement. You can't say one movie is \"twice as good\" as another based on average ratings, while you can say one student scored \"twice as high\" as another based on average scores."
   ]
  },
  {
   "cell_type": "markdown",
   "id": "c8023f64-a40f-4807-862a-8901a405d003",
   "metadata": {},
   "source": [
    "2. Avoiding misinterpretations"
   ]
  },
  {
   "cell_type": "markdown",
   "id": "1ada1fb9-4450-4b65-a565-94eb1e16cbc5",
   "metadata": {},
   "source": [
    "Q7. How nominal data type is different from ordinal data type."
   ]
  },
  {
   "cell_type": "markdown",
   "id": "70c91640-8e62-40d6-8683-4de5a3170e85",
   "metadata": {},
   "source": [
    "The main differences between Nominal Data and Ordinal Data are: While Nominal Data is classified without any intrinsic ordering or rank, Ordinal Data has some predetermined or natural order. Nominal data is qualitative or categorical data, while Ordinal data is considered “in-between” qualitative and quantitative data."
   ]
  },
  {
   "cell_type": "markdown",
   "id": "86172dce-216b-4354-8cd1-db4e81a3cc43",
   "metadata": {},
   "source": [
    "Q8. Which type of plot can be used to display data in terms of range?"
   ]
  },
  {
   "cell_type": "markdown",
   "id": "fbdf070a-20e6-4998-8c6f-b92c2646af5b",
   "metadata": {},
   "source": [
    "HISTOGRAM "
   ]
  },
  {
   "cell_type": "markdown",
   "id": "51509878-4583-48f2-92c4-760eb4e2b9cc",
   "metadata": {},
   "source": [
    "Q9. Describe the difference between descriptive and inferential statistics. Give an example of each\n",
    "type of statistics and explain how they are used."
   ]
  },
  {
   "cell_type": "markdown",
   "id": "654f52e5-46fa-4a75-a1aa-f8ad41f1c108",
   "metadata": {},
   "source": [
    "Descriptive statistics summarize the characteristics of a data set. Inferential statistics allow you to test a hypothesis or assess whether your data is generalizable to the broader population."
   ]
  },
  {
   "cell_type": "markdown",
   "id": "e848e2e2-e7f6-4e02-97f0-be85ba43763a",
   "metadata": {},
   "source": [
    "EXAMPLE OF descriptive Measures of central tendency: Mean, median, mode. These tell you where the \"typical\" values lie in the dataset."
   ]
  },
  {
   "cell_type": "markdown",
   "id": "89621059-aaba-4321-89cb-bb4b295d365b",
   "metadata": {},
   "source": [
    "EXAMPLE of inferential Regression analysis: Examining relationships between variables and making predictions about one variable based on the other."
   ]
  },
  {
   "cell_type": "markdown",
   "id": "0ff9ec3d-f9a4-4264-b95b-1ba64f63bd36",
   "metadata": {},
   "source": [
    "Q10. What are some common measures of central tendency and variability used in statistics? Explain\n",
    "how each measure can be used to describe a dataset."
   ]
  },
  {
   "cell_type": "markdown",
   "id": "758c5e7a-ed34-443c-ab28-cd009ce1a2fe",
   "metadata": {},
   "source": [
    "Mean: The arithmetic average, calculated by summing all values and dividing by the number of values.\n",
    "\n",
    "Use: Suitable for normally distributed data with no outliers. Sensitive to extreme values.\n",
    "Example: Average income in a city can be used to gauge the typical financial standing.\n"
   ]
  },
  {
   "cell_type": "code",
   "execution_count": null,
   "id": "70f1af2a-eed1-492b-911c-16fedad9c5bf",
   "metadata": {},
   "outputs": [],
   "source": []
  }
 ],
 "metadata": {
  "kernelspec": {
   "display_name": "Python 3 (ipykernel)",
   "language": "python",
   "name": "python3"
  },
  "language_info": {
   "codemirror_mode": {
    "name": "ipython",
    "version": 3
   },
   "file_extension": ".py",
   "mimetype": "text/x-python",
   "name": "python",
   "nbconvert_exporter": "python",
   "pygments_lexer": "ipython3",
   "version": "3.10.8"
  }
 },
 "nbformat": 4,
 "nbformat_minor": 5
}
